{
  "nbformat": 4,
  "nbformat_minor": 0,
  "metadata": {
    "anaconda-cloud": {},
    "kernelspec": {
      "display_name": "Python [default]",
      "language": "python",
      "name": "python3"
    },
    "language_info": {
      "codemirror_mode": {
        "name": "ipython",
        "version": 3
      },
      "file_extension": ".py",
      "mimetype": "text/x-python",
      "name": "python",
      "nbconvert_exporter": "python",
      "pygments_lexer": "ipython3",
      "version": "3.5.2"
    },
    "toc": {
      "colors": {
        "hover_highlight": "#DAA520",
        "running_highlight": "#FF0000",
        "selected_highlight": "#FFD700"
      },
      "moveMenuLeft": true,
      "nav_menu": {
        "height": "58px",
        "width": "252px"
      },
      "navigate_menu": true,
      "number_sections": true,
      "sideBar": true,
      "threshold": 4,
      "toc_cell": false,
      "toc_section_display": "block",
      "toc_window_display": false,
      "widenNotebook": false
    },
    "colab": {
      "name": "Lab 6.2-Muhammad Ali_VN.ipynb",
      "provenance": [],
      "collapsed_sections": []
    }
  },
  "cells": [
    {
      "cell_type": "markdown",
      "metadata": {
        "id": "XV-HVmVVkopV"
      },
      "source": [
        "## Giới thiệu Lab\n",
        "Trong quá trình trưởng thành, ai cũng hâm mộ một vị anh hùng. Đối với nhiều người, vị anh hùng đó là Muhammad Ali. Ông ấy dạy mọi người nên tự hào về con người của họ, kể cả vào thời điểm mà những người khác sẽ không chấp nhận điều đó. Ông đã chỉ cho mọi người cách đứng lên bảo vệ niềm tin khi đối mặt với áp bức và bạo quyền. Ông giúp mọi người đánh giá cao bản thân và khuyến khích họ quan tâm đến những người xung quanh. Ông đã cho chúng ta thấy bản lĩnh thực sự có nghĩa là gì, làm thế nào để trở thành một võ sĩ quyền anh, và nhiều hơn thế nữa. Tất cả những người từng gặp Muhammad Ali, dù là trên hay ngoài võ đài đều có một câu chuyện đầy động lực để chia sẻ về cuộc gặp gỡ của họ.\n",
        "\n",
        "Vào ngày 3 tháng 6 năm 2016, Muhammad Ali qua đời ở tuổi 74 do sốc nhiễm trùng. Trước đó 30 năm, ông được chẩn đoán mắc hội chứng Parkinson, một tình trạng thoái hóa thần kinh mà các bác sĩ cho rằng do chấn thương não liên quan đến quyền anh.\n",
        "\n",
        "Bản thân bệnh Parkinson là một rối loạn lâu dài của hệ thần kinh, ảnh hưởng đến nhiều khía cạnh vận động của một người theo thời gian. Người bệnh này có đặc điểm là run, di chuyển chậm, cứng nhắc, sa sút trí tuệ và trầm cảm. Vào năm 2013, khoảng 53 triệu người được chẩn đoán mắc bệnh này, chủ yếu là nam giới. Những nhân vật nổi tiếng khác bị ảnh hưởng bởi nó gồm diễn viên Michael J. Fox, và vận động viên đua xe đạp Olympic Davis Phinney.\n",
        "\n",
        "Trong lab này, bạn sẽ áp dụng SVC cho [Tập dữ liệu Parkinson](https://archive.ics.uci.edu/ml/datasets/Parkinsons), được cung cấp bởi Machine Learning Repository của UCI. Tập dữ liệu được thực hiện ở Đại học Oxford, với sự hợp tác của 10 trung tâm y tế trên khắp Hoa Kỳ cùng với Intel, tổ chức đã phát triển thiết bị được sử dụng để ghi lại các thuộc tính chính của tập dữ liệu: tín hiệu giọng nói. Mục tiêu của bạn đối với lab này trước tiên là xem liệu có thể phân biệt được những người bị và không bị Parkinson sử dụng công cụ phân loại vectơ hỗ trợ của SciKit-Learn hay không, và sau đó là tìm hiểu một cách thuần phác trong việc tinh chỉnh các thông số với nỗ lực tối đa hóa độ chính xác của testing set.\n",
        "\n",
        "\"Tôi chưa bao giờ thực sự chán nản với những việc khó khăn bởi vì tôi luôn thích nó. Thức dậy mỗi sáng để làm việc trên đường. Đến phòng tập thể dục hàng ngày lúc 12 giờ. Tôi không bao giờ thay đổi khuôn khổ của mình.\""
      ]
    },
    {
      "cell_type": "markdown",
      "metadata": {
        "id": "JKeHrzNmkopX"
      },
      "source": [
        "## Chu kỳ 1"
      ]
    },
    {
      "cell_type": "markdown",
      "metadata": {
        "id": "FEbWvbYKkopZ"
      },
      "source": [
        "Download tập dữ liệu từ liên kết ở trên, sau đó load **parkinsons.data** vào biến **X**, hãy chắc chắn rằng bạn bỏ cột name.\n"
      ]
    },
    {
      "cell_type": "code",
      "metadata": {
        "colab": {
          "base_uri": "https://localhost:8080/"
        },
        "id": "8aeGBm5SesuH",
        "outputId": "16e2bcc1-f4d6-443e-8e21-c40aae56d8f7"
      },
      "source": [
        "!pip install scikit-learn==0.23.1"
      ],
      "execution_count": 1,
      "outputs": [
        {
          "output_type": "stream",
          "name": "stdout",
          "text": [
            "Collecting scikit-learn==0.23.1\n",
            "  Downloading scikit_learn-0.23.1-cp37-cp37m-manylinux1_x86_64.whl (6.8 MB)\n",
            "\u001b[K     |████████████████████████████████| 6.8 MB 3.8 MB/s \n",
            "\u001b[?25hRequirement already satisfied: scipy>=0.19.1 in /usr/local/lib/python3.7/dist-packages (from scikit-learn==0.23.1) (1.4.1)\n",
            "Requirement already satisfied: joblib>=0.11 in /usr/local/lib/python3.7/dist-packages (from scikit-learn==0.23.1) (1.0.1)\n",
            "Requirement already satisfied: numpy>=1.13.3 in /usr/local/lib/python3.7/dist-packages (from scikit-learn==0.23.1) (1.19.5)\n",
            "Collecting threadpoolctl>=2.0.0\n",
            "  Downloading threadpoolctl-2.2.0-py3-none-any.whl (12 kB)\n",
            "Installing collected packages: threadpoolctl, scikit-learn\n",
            "  Attempting uninstall: scikit-learn\n",
            "    Found existing installation: scikit-learn 0.22.2.post1\n",
            "    Uninstalling scikit-learn-0.22.2.post1:\n",
            "      Successfully uninstalled scikit-learn-0.22.2.post1\n",
            "Successfully installed scikit-learn-0.23.1 threadpoolctl-2.2.0\n"
          ]
        }
      ]
    },
    {
      "cell_type": "code",
      "metadata": {
        "id": "riQ0mt9mX-qa"
      },
      "source": [
        "import numpy as np\n",
        "import pandas as pd\n",
        "from sklearn.model_selection import train_test_split"
      ],
      "execution_count": 2,
      "outputs": []
    },
    {
      "cell_type": "code",
      "metadata": {
        "id": "9G6Oi5d4kopa",
        "colab": {
          "base_uri": "https://localhost:8080/"
        },
        "outputId": "5f95d6f0-0f37-400d-9a5e-28a6997bad8a"
      },
      "source": [
        "#Click here and press Shift+Enter\n",
        "!wget -O cell_samples.csv https://archive.ics.uci.edu/ml/machine-learning-databases/parkinsons/parkinsons.data"
      ],
      "execution_count": 3,
      "outputs": [
        {
          "output_type": "stream",
          "name": "stdout",
          "text": [
            "--2021-09-03 15:33:07--  https://archive.ics.uci.edu/ml/machine-learning-databases/parkinsons/parkinsons.data\n",
            "Resolving archive.ics.uci.edu (archive.ics.uci.edu)... 128.195.10.252\n",
            "Connecting to archive.ics.uci.edu (archive.ics.uci.edu)|128.195.10.252|:443... connected.\n",
            "HTTP request sent, awaiting response... 200 OK\n",
            "Length: 40697 (40K) [application/x-httpd-php]\n",
            "Saving to: ‘cell_samples.csv’\n",
            "\n",
            "cell_samples.csv    100%[===================>]  39.74K  --.-KB/s    in 0.1s    \n",
            "\n",
            "2021-09-03 15:33:08 (301 KB/s) - ‘cell_samples.csv’ saved [40697/40697]\n",
            "\n"
          ]
        }
      ]
    },
    {
      "cell_type": "code",
      "metadata": {
        "id": "ReefUj8pX5oW"
      },
      "source": [
        "data = pd.read_csv(\"cell_samples.csv\")"
      ],
      "execution_count": 4,
      "outputs": []
    },
    {
      "cell_type": "code",
      "metadata": {
        "colab": {
          "base_uri": "https://localhost:8080/",
          "height": 224
        },
        "id": "x8GwJSdEYsy8",
        "outputId": "261cc27d-54bb-417b-e663-1e5ca0feabe1"
      },
      "source": [
        "data.head()"
      ],
      "execution_count": 5,
      "outputs": [
        {
          "output_type": "execute_result",
          "data": {
            "text/html": [
              "<div>\n",
              "<style scoped>\n",
              "    .dataframe tbody tr th:only-of-type {\n",
              "        vertical-align: middle;\n",
              "    }\n",
              "\n",
              "    .dataframe tbody tr th {\n",
              "        vertical-align: top;\n",
              "    }\n",
              "\n",
              "    .dataframe thead th {\n",
              "        text-align: right;\n",
              "    }\n",
              "</style>\n",
              "<table border=\"1\" class=\"dataframe\">\n",
              "  <thead>\n",
              "    <tr style=\"text-align: right;\">\n",
              "      <th></th>\n",
              "      <th>name</th>\n",
              "      <th>MDVP:Fo(Hz)</th>\n",
              "      <th>MDVP:Fhi(Hz)</th>\n",
              "      <th>MDVP:Flo(Hz)</th>\n",
              "      <th>MDVP:Jitter(%)</th>\n",
              "      <th>MDVP:Jitter(Abs)</th>\n",
              "      <th>MDVP:RAP</th>\n",
              "      <th>MDVP:PPQ</th>\n",
              "      <th>Jitter:DDP</th>\n",
              "      <th>MDVP:Shimmer</th>\n",
              "      <th>MDVP:Shimmer(dB)</th>\n",
              "      <th>Shimmer:APQ3</th>\n",
              "      <th>Shimmer:APQ5</th>\n",
              "      <th>MDVP:APQ</th>\n",
              "      <th>Shimmer:DDA</th>\n",
              "      <th>NHR</th>\n",
              "      <th>HNR</th>\n",
              "      <th>status</th>\n",
              "      <th>RPDE</th>\n",
              "      <th>DFA</th>\n",
              "      <th>spread1</th>\n",
              "      <th>spread2</th>\n",
              "      <th>D2</th>\n",
              "      <th>PPE</th>\n",
              "    </tr>\n",
              "  </thead>\n",
              "  <tbody>\n",
              "    <tr>\n",
              "      <th>0</th>\n",
              "      <td>phon_R01_S01_1</td>\n",
              "      <td>119.992</td>\n",
              "      <td>157.302</td>\n",
              "      <td>74.997</td>\n",
              "      <td>0.00784</td>\n",
              "      <td>0.00007</td>\n",
              "      <td>0.00370</td>\n",
              "      <td>0.00554</td>\n",
              "      <td>0.01109</td>\n",
              "      <td>0.04374</td>\n",
              "      <td>0.426</td>\n",
              "      <td>0.02182</td>\n",
              "      <td>0.03130</td>\n",
              "      <td>0.02971</td>\n",
              "      <td>0.06545</td>\n",
              "      <td>0.02211</td>\n",
              "      <td>21.033</td>\n",
              "      <td>1</td>\n",
              "      <td>0.414783</td>\n",
              "      <td>0.815285</td>\n",
              "      <td>-4.813031</td>\n",
              "      <td>0.266482</td>\n",
              "      <td>2.301442</td>\n",
              "      <td>0.284654</td>\n",
              "    </tr>\n",
              "    <tr>\n",
              "      <th>1</th>\n",
              "      <td>phon_R01_S01_2</td>\n",
              "      <td>122.400</td>\n",
              "      <td>148.650</td>\n",
              "      <td>113.819</td>\n",
              "      <td>0.00968</td>\n",
              "      <td>0.00008</td>\n",
              "      <td>0.00465</td>\n",
              "      <td>0.00696</td>\n",
              "      <td>0.01394</td>\n",
              "      <td>0.06134</td>\n",
              "      <td>0.626</td>\n",
              "      <td>0.03134</td>\n",
              "      <td>0.04518</td>\n",
              "      <td>0.04368</td>\n",
              "      <td>0.09403</td>\n",
              "      <td>0.01929</td>\n",
              "      <td>19.085</td>\n",
              "      <td>1</td>\n",
              "      <td>0.458359</td>\n",
              "      <td>0.819521</td>\n",
              "      <td>-4.075192</td>\n",
              "      <td>0.335590</td>\n",
              "      <td>2.486855</td>\n",
              "      <td>0.368674</td>\n",
              "    </tr>\n",
              "    <tr>\n",
              "      <th>2</th>\n",
              "      <td>phon_R01_S01_3</td>\n",
              "      <td>116.682</td>\n",
              "      <td>131.111</td>\n",
              "      <td>111.555</td>\n",
              "      <td>0.01050</td>\n",
              "      <td>0.00009</td>\n",
              "      <td>0.00544</td>\n",
              "      <td>0.00781</td>\n",
              "      <td>0.01633</td>\n",
              "      <td>0.05233</td>\n",
              "      <td>0.482</td>\n",
              "      <td>0.02757</td>\n",
              "      <td>0.03858</td>\n",
              "      <td>0.03590</td>\n",
              "      <td>0.08270</td>\n",
              "      <td>0.01309</td>\n",
              "      <td>20.651</td>\n",
              "      <td>1</td>\n",
              "      <td>0.429895</td>\n",
              "      <td>0.825288</td>\n",
              "      <td>-4.443179</td>\n",
              "      <td>0.311173</td>\n",
              "      <td>2.342259</td>\n",
              "      <td>0.332634</td>\n",
              "    </tr>\n",
              "    <tr>\n",
              "      <th>3</th>\n",
              "      <td>phon_R01_S01_4</td>\n",
              "      <td>116.676</td>\n",
              "      <td>137.871</td>\n",
              "      <td>111.366</td>\n",
              "      <td>0.00997</td>\n",
              "      <td>0.00009</td>\n",
              "      <td>0.00502</td>\n",
              "      <td>0.00698</td>\n",
              "      <td>0.01505</td>\n",
              "      <td>0.05492</td>\n",
              "      <td>0.517</td>\n",
              "      <td>0.02924</td>\n",
              "      <td>0.04005</td>\n",
              "      <td>0.03772</td>\n",
              "      <td>0.08771</td>\n",
              "      <td>0.01353</td>\n",
              "      <td>20.644</td>\n",
              "      <td>1</td>\n",
              "      <td>0.434969</td>\n",
              "      <td>0.819235</td>\n",
              "      <td>-4.117501</td>\n",
              "      <td>0.334147</td>\n",
              "      <td>2.405554</td>\n",
              "      <td>0.368975</td>\n",
              "    </tr>\n",
              "    <tr>\n",
              "      <th>4</th>\n",
              "      <td>phon_R01_S01_5</td>\n",
              "      <td>116.014</td>\n",
              "      <td>141.781</td>\n",
              "      <td>110.655</td>\n",
              "      <td>0.01284</td>\n",
              "      <td>0.00011</td>\n",
              "      <td>0.00655</td>\n",
              "      <td>0.00908</td>\n",
              "      <td>0.01966</td>\n",
              "      <td>0.06425</td>\n",
              "      <td>0.584</td>\n",
              "      <td>0.03490</td>\n",
              "      <td>0.04825</td>\n",
              "      <td>0.04465</td>\n",
              "      <td>0.10470</td>\n",
              "      <td>0.01767</td>\n",
              "      <td>19.649</td>\n",
              "      <td>1</td>\n",
              "      <td>0.417356</td>\n",
              "      <td>0.823484</td>\n",
              "      <td>-3.747787</td>\n",
              "      <td>0.234513</td>\n",
              "      <td>2.332180</td>\n",
              "      <td>0.410335</td>\n",
              "    </tr>\n",
              "  </tbody>\n",
              "</table>\n",
              "</div>"
            ],
            "text/plain": [
              "             name  MDVP:Fo(Hz)  MDVP:Fhi(Hz)  ...   spread2        D2       PPE\n",
              "0  phon_R01_S01_1      119.992       157.302  ...  0.266482  2.301442  0.284654\n",
              "1  phon_R01_S01_2      122.400       148.650  ...  0.335590  2.486855  0.368674\n",
              "2  phon_R01_S01_3      116.682       131.111  ...  0.311173  2.342259  0.332634\n",
              "3  phon_R01_S01_4      116.676       137.871  ...  0.334147  2.405554  0.368975\n",
              "4  phon_R01_S01_5      116.014       141.781  ...  0.234513  2.332180  0.410335\n",
              "\n",
              "[5 rows x 24 columns]"
            ]
          },
          "metadata": {},
          "execution_count": 5
        }
      ]
    },
    {
      "cell_type": "code",
      "metadata": {
        "colab": {
          "base_uri": "https://localhost:8080/",
          "height": 224
        },
        "id": "fY7cb21xZXY8",
        "outputId": "14a5d170-fd61-4e8a-945d-ea9b42e304ff"
      },
      "source": [
        "X = data.drop(columns = ['status', 'name'])\n",
        "X.head()\n"
      ],
      "execution_count": 6,
      "outputs": [
        {
          "output_type": "execute_result",
          "data": {
            "text/html": [
              "<div>\n",
              "<style scoped>\n",
              "    .dataframe tbody tr th:only-of-type {\n",
              "        vertical-align: middle;\n",
              "    }\n",
              "\n",
              "    .dataframe tbody tr th {\n",
              "        vertical-align: top;\n",
              "    }\n",
              "\n",
              "    .dataframe thead th {\n",
              "        text-align: right;\n",
              "    }\n",
              "</style>\n",
              "<table border=\"1\" class=\"dataframe\">\n",
              "  <thead>\n",
              "    <tr style=\"text-align: right;\">\n",
              "      <th></th>\n",
              "      <th>MDVP:Fo(Hz)</th>\n",
              "      <th>MDVP:Fhi(Hz)</th>\n",
              "      <th>MDVP:Flo(Hz)</th>\n",
              "      <th>MDVP:Jitter(%)</th>\n",
              "      <th>MDVP:Jitter(Abs)</th>\n",
              "      <th>MDVP:RAP</th>\n",
              "      <th>MDVP:PPQ</th>\n",
              "      <th>Jitter:DDP</th>\n",
              "      <th>MDVP:Shimmer</th>\n",
              "      <th>MDVP:Shimmer(dB)</th>\n",
              "      <th>Shimmer:APQ3</th>\n",
              "      <th>Shimmer:APQ5</th>\n",
              "      <th>MDVP:APQ</th>\n",
              "      <th>Shimmer:DDA</th>\n",
              "      <th>NHR</th>\n",
              "      <th>HNR</th>\n",
              "      <th>RPDE</th>\n",
              "      <th>DFA</th>\n",
              "      <th>spread1</th>\n",
              "      <th>spread2</th>\n",
              "      <th>D2</th>\n",
              "      <th>PPE</th>\n",
              "    </tr>\n",
              "  </thead>\n",
              "  <tbody>\n",
              "    <tr>\n",
              "      <th>0</th>\n",
              "      <td>119.992</td>\n",
              "      <td>157.302</td>\n",
              "      <td>74.997</td>\n",
              "      <td>0.00784</td>\n",
              "      <td>0.00007</td>\n",
              "      <td>0.00370</td>\n",
              "      <td>0.00554</td>\n",
              "      <td>0.01109</td>\n",
              "      <td>0.04374</td>\n",
              "      <td>0.426</td>\n",
              "      <td>0.02182</td>\n",
              "      <td>0.03130</td>\n",
              "      <td>0.02971</td>\n",
              "      <td>0.06545</td>\n",
              "      <td>0.02211</td>\n",
              "      <td>21.033</td>\n",
              "      <td>0.414783</td>\n",
              "      <td>0.815285</td>\n",
              "      <td>-4.813031</td>\n",
              "      <td>0.266482</td>\n",
              "      <td>2.301442</td>\n",
              "      <td>0.284654</td>\n",
              "    </tr>\n",
              "    <tr>\n",
              "      <th>1</th>\n",
              "      <td>122.400</td>\n",
              "      <td>148.650</td>\n",
              "      <td>113.819</td>\n",
              "      <td>0.00968</td>\n",
              "      <td>0.00008</td>\n",
              "      <td>0.00465</td>\n",
              "      <td>0.00696</td>\n",
              "      <td>0.01394</td>\n",
              "      <td>0.06134</td>\n",
              "      <td>0.626</td>\n",
              "      <td>0.03134</td>\n",
              "      <td>0.04518</td>\n",
              "      <td>0.04368</td>\n",
              "      <td>0.09403</td>\n",
              "      <td>0.01929</td>\n",
              "      <td>19.085</td>\n",
              "      <td>0.458359</td>\n",
              "      <td>0.819521</td>\n",
              "      <td>-4.075192</td>\n",
              "      <td>0.335590</td>\n",
              "      <td>2.486855</td>\n",
              "      <td>0.368674</td>\n",
              "    </tr>\n",
              "    <tr>\n",
              "      <th>2</th>\n",
              "      <td>116.682</td>\n",
              "      <td>131.111</td>\n",
              "      <td>111.555</td>\n",
              "      <td>0.01050</td>\n",
              "      <td>0.00009</td>\n",
              "      <td>0.00544</td>\n",
              "      <td>0.00781</td>\n",
              "      <td>0.01633</td>\n",
              "      <td>0.05233</td>\n",
              "      <td>0.482</td>\n",
              "      <td>0.02757</td>\n",
              "      <td>0.03858</td>\n",
              "      <td>0.03590</td>\n",
              "      <td>0.08270</td>\n",
              "      <td>0.01309</td>\n",
              "      <td>20.651</td>\n",
              "      <td>0.429895</td>\n",
              "      <td>0.825288</td>\n",
              "      <td>-4.443179</td>\n",
              "      <td>0.311173</td>\n",
              "      <td>2.342259</td>\n",
              "      <td>0.332634</td>\n",
              "    </tr>\n",
              "    <tr>\n",
              "      <th>3</th>\n",
              "      <td>116.676</td>\n",
              "      <td>137.871</td>\n",
              "      <td>111.366</td>\n",
              "      <td>0.00997</td>\n",
              "      <td>0.00009</td>\n",
              "      <td>0.00502</td>\n",
              "      <td>0.00698</td>\n",
              "      <td>0.01505</td>\n",
              "      <td>0.05492</td>\n",
              "      <td>0.517</td>\n",
              "      <td>0.02924</td>\n",
              "      <td>0.04005</td>\n",
              "      <td>0.03772</td>\n",
              "      <td>0.08771</td>\n",
              "      <td>0.01353</td>\n",
              "      <td>20.644</td>\n",
              "      <td>0.434969</td>\n",
              "      <td>0.819235</td>\n",
              "      <td>-4.117501</td>\n",
              "      <td>0.334147</td>\n",
              "      <td>2.405554</td>\n",
              "      <td>0.368975</td>\n",
              "    </tr>\n",
              "    <tr>\n",
              "      <th>4</th>\n",
              "      <td>116.014</td>\n",
              "      <td>141.781</td>\n",
              "      <td>110.655</td>\n",
              "      <td>0.01284</td>\n",
              "      <td>0.00011</td>\n",
              "      <td>0.00655</td>\n",
              "      <td>0.00908</td>\n",
              "      <td>0.01966</td>\n",
              "      <td>0.06425</td>\n",
              "      <td>0.584</td>\n",
              "      <td>0.03490</td>\n",
              "      <td>0.04825</td>\n",
              "      <td>0.04465</td>\n",
              "      <td>0.10470</td>\n",
              "      <td>0.01767</td>\n",
              "      <td>19.649</td>\n",
              "      <td>0.417356</td>\n",
              "      <td>0.823484</td>\n",
              "      <td>-3.747787</td>\n",
              "      <td>0.234513</td>\n",
              "      <td>2.332180</td>\n",
              "      <td>0.410335</td>\n",
              "    </tr>\n",
              "  </tbody>\n",
              "</table>\n",
              "</div>"
            ],
            "text/plain": [
              "   MDVP:Fo(Hz)  MDVP:Fhi(Hz)  MDVP:Flo(Hz)  ...   spread2        D2       PPE\n",
              "0      119.992       157.302        74.997  ...  0.266482  2.301442  0.284654\n",
              "1      122.400       148.650       113.819  ...  0.335590  2.486855  0.368674\n",
              "2      116.682       131.111       111.555  ...  0.311173  2.342259  0.332634\n",
              "3      116.676       137.871       111.366  ...  0.334147  2.405554  0.368975\n",
              "4      116.014       141.781       110.655  ...  0.234513  2.332180  0.410335\n",
              "\n",
              "[5 rows x 22 columns]"
            ]
          },
          "metadata": {},
          "execution_count": 6
        }
      ]
    },
    {
      "cell_type": "code",
      "metadata": {
        "colab": {
          "base_uri": "https://localhost:8080/"
        },
        "id": "PQfoyPPEaC66",
        "outputId": "38a830a1-acfe-413d-be73-da1e34dae2d2"
      },
      "source": [
        "X = np.asarray(X)\n",
        "X"
      ],
      "execution_count": 7,
      "outputs": [
        {
          "output_type": "execute_result",
          "data": {
            "text/plain": [
              "array([[1.199920e+02, 1.573020e+02, 7.499700e+01, ..., 2.664820e-01,\n",
              "        2.301442e+00, 2.846540e-01],\n",
              "       [1.224000e+02, 1.486500e+02, 1.138190e+02, ..., 3.355900e-01,\n",
              "        2.486855e+00, 3.686740e-01],\n",
              "       [1.166820e+02, 1.311110e+02, 1.115550e+02, ..., 3.111730e-01,\n",
              "        2.342259e+00, 3.326340e-01],\n",
              "       ...,\n",
              "       [1.746880e+02, 2.400050e+02, 7.428700e+01, ..., 1.584530e-01,\n",
              "        2.679772e+00, 1.317280e-01],\n",
              "       [1.987640e+02, 3.969610e+02, 7.490400e+01, ..., 2.074540e-01,\n",
              "        2.138608e+00, 1.233060e-01],\n",
              "       [2.142890e+02, 2.602770e+02, 7.797300e+01, ..., 1.906670e-01,\n",
              "        2.555477e+00, 1.485690e-01]])"
            ]
          },
          "metadata": {},
          "execution_count": 7
        }
      ]
    },
    {
      "cell_type": "markdown",
      "metadata": {
        "id": "-Ixw-1DImf_K"
      },
      "source": [
        "Ghép cột status vào biến **y** và xóa nó khỏi **X**."
      ]
    },
    {
      "cell_type": "code",
      "metadata": {
        "id": "nOWlWytYm0VV",
        "colab": {
          "base_uri": "https://localhost:8080/"
        },
        "outputId": "bf11ed32-72b7-44f2-92a8-0d2a64b60c4e"
      },
      "source": [
        "y = data['status']\n",
        "y.head()"
      ],
      "execution_count": 8,
      "outputs": [
        {
          "output_type": "execute_result",
          "data": {
            "text/plain": [
              "0    1\n",
              "1    1\n",
              "2    1\n",
              "3    1\n",
              "4    1\n",
              "Name: status, dtype: int64"
            ]
          },
          "metadata": {},
          "execution_count": 8
        }
      ]
    },
    {
      "cell_type": "code",
      "metadata": {
        "colab": {
          "base_uri": "https://localhost:8080/"
        },
        "id": "Z28nYx9qaIVo",
        "outputId": "bd0f54b4-a0a4-4cc7-a608-b80fe13beb5b"
      },
      "source": [
        "y = np.asarray(y)\n",
        "y"
      ],
      "execution_count": 9,
      "outputs": [
        {
          "output_type": "execute_result",
          "data": {
            "text/plain": [
              "array([1, 1, 1, 1, 1, 1, 1, 1, 1, 1, 1, 1, 1, 1, 1, 1, 1, 1, 1, 1, 1, 1,\n",
              "       1, 1, 1, 1, 1, 1, 1, 1, 0, 0, 0, 0, 0, 0, 1, 1, 1, 1, 1, 1, 0, 0,\n",
              "       0, 0, 0, 0, 0, 0, 0, 0, 0, 0, 1, 1, 1, 1, 1, 1, 0, 0, 0, 0, 0, 0,\n",
              "       1, 1, 1, 1, 1, 1, 1, 1, 1, 1, 1, 1, 1, 1, 1, 1, 1, 1, 1, 1, 1, 1,\n",
              "       1, 1, 1, 1, 1, 1, 1, 1, 1, 1, 1, 1, 1, 1, 1, 1, 1, 1, 1, 1, 1, 1,\n",
              "       1, 1, 1, 1, 1, 1, 1, 1, 1, 1, 1, 1, 1, 1, 1, 1, 1, 1, 1, 1, 1, 1,\n",
              "       1, 1, 1, 1, 1, 1, 1, 1, 1, 1, 1, 1, 1, 1, 1, 1, 1, 1, 1, 1, 1, 1,\n",
              "       1, 1, 1, 1, 1, 1, 1, 1, 1, 1, 1, 0, 0, 0, 0, 0, 0, 0, 0, 0, 0, 0,\n",
              "       0, 1, 1, 1, 1, 1, 1, 0, 0, 0, 0, 0, 0, 0, 0, 0, 0, 0, 0])"
            ]
          },
          "metadata": {},
          "execution_count": 9
        }
      ]
    },
    {
      "cell_type": "markdown",
      "metadata": {
        "id": "Ag3LaZ_fm2bX"
      },
      "source": [
        "Thực hiện train/test split. **30**% kích thước nhóm test, với random_state bằng **7**."
      ]
    },
    {
      "cell_type": "code",
      "metadata": {
        "id": "HJVbkRsvnD3K"
      },
      "source": [
        "x_train, x_test, y_train, y_test = train_test_split(X, y , test_size = 0.3, random_state = 7)"
      ],
      "execution_count": 10,
      "outputs": []
    },
    {
      "cell_type": "markdown",
      "metadata": {
        "id": "z-gCEYNFnK3Q"
      },
      "source": [
        "Tạo bộ phân loại SVC. Không chỉ định bất kỳ tham số nào, chỉ để mọi thứ như mặc định. So khớp nó với dữ liệu huấn luyện và sau đó chấm điểm dữ liệu test với độ chính xác và F1 score."
      ]
    },
    {
      "cell_type": "code",
      "metadata": {
        "id": "GPuI1e4enNjd"
      },
      "source": [
        "from sklearn.svm import SVC\n",
        "clf = SVC()\n",
        "svm_model = clf.fit(x_train, y_train)"
      ],
      "execution_count": 11,
      "outputs": []
    },
    {
      "cell_type": "code",
      "metadata": {
        "id": "HsaYkNlma335"
      },
      "source": [
        "y_hat = svm_model.predict(x_test)"
      ],
      "execution_count": 12,
      "outputs": []
    },
    {
      "cell_type": "code",
      "metadata": {
        "colab": {
          "base_uri": "https://localhost:8080/"
        },
        "id": "TniZfM27bIRV",
        "outputId": "42e6b408-6083-4dd5-920d-3bc301a6298f"
      },
      "source": [
        "from sklearn.metrics import f1_score\n",
        "print(f1_score(y_hat, y_test))"
      ],
      "execution_count": 13,
      "outputs": [
        {
          "output_type": "stream",
          "name": "stdout",
          "text": [
            "0.8600000000000001\n"
          ]
        }
      ]
    },
    {
      "cell_type": "markdown",
      "metadata": {
        "id": "2H8GDqSFnPu6"
      },
      "source": [
        "## Chu kỳ 2\n"
      ]
    },
    {
      "cell_type": "markdown",
      "metadata": {
        "id": "TrUv89B0nV9U"
      },
      "source": [
        "Độ chính xác đó quá thấp để trở nên hữu dụng. Chúng ta cần phải cải thiện nó. Bạn có thể thực hiện thử theo cách thủ công một loạt các kết hợp của **C và các giá trị gamma cho nhân rbf**. Nhưng điều đó có thể tốn rất nhiều thời gian. Ngoài ra, bạn có thể vô tình bỏ qua một cặp giá trị có thể dẫn đến độ chính xác rất tốt.\n",
        "\n",
        "Thay vào đó, hãy tận dụng ưu điểm của máy tính. Lập trình tìm kiếm thông số tốt nhất đơn giản bằng cách tạo các vòng lặp for lồng nhau. Vòng lặp for bên ngoài sẽ lặp lại biến **C từ 0,05 đến 2, sử dụng tăng tiến đơn vị 0,05**. Vòng lặp for bên trong sẽ tăng biến **gamma từ 0,001 đến 0,1, sử dụng tăng tiến đơn vị 0,001**. Như bạn đã biết, Python range sẽ không cho phép khoảng thời gian thực, vì thế bạn sẽ phải thực hiện một số nghiên cứu về NumPy ARanges nếu bạn chưa biết cách sử dụng chúng.\n",
        "\n",
        "Vì mục tiêu là tìm các tham số dẫn đến mô hình có hệ số chính xác tốt nhất, bạn sẽ cần biến **best_score = 0 mà bạn khởi tạo bên ngoài vòng lặp for.** Trong vòng lặp for bên trong, hãy tạo mô hình SVC và chuyển tham số C và gamma vào hàm tạo lớp. Huấn luyện và cho điểm mô hình một cách thích hợp. Nếu best_score hiện tại nhỏ hơn hệ số của mô hình, hãy cập nhật best_score để đảm bảo in nó ra cùng với các giá trị C và gamma dẫn đến nó.\n",
        "\n",
        "Sau khi chạy lại lab, độ chính xác cao nhất và hệ số F1 mà bạn có thể nhận được là bao nhiêu?"
      ]
    },
    {
      "cell_type": "code",
      "metadata": {
        "id": "efWGEUPNnO0E"
      },
      "source": [
        "best_score = 0\n",
        "score_list = []\n",
        "C_list = []\n",
        "gamma_list = []\n",
        "for C in np.arange(0.05, 2.05,  0.05):\n",
        "  for gamma in np.arange(0.001, 0.1001, 0.001):\n",
        "      clf = SVC(kernel='rbf', C=C, gamma = gamma)\n",
        "      model = clf.fit(x_train, y_train)\n",
        "      y_hat = model.predict(x_test)\n",
        "      from sklearn.metrics import f1_score\n",
        "      score = f1_score(y_test, y_hat)\n",
        "      if score > best_score:\n",
        "          best_score =   score\n",
        "          score_list.append(score)\n",
        "          C_list.append(C)\n",
        "          gamma_list.append(gamma)"
      ],
      "execution_count": 14,
      "outputs": []
    },
    {
      "cell_type": "code",
      "metadata": {
        "colab": {
          "base_uri": "https://localhost:8080/"
        },
        "id": "iX5C48UhpiL6",
        "outputId": "b25aa8dc-84e5-4580-a1fb-e8ff5e09f226"
      },
      "source": [
        "index = score_list.index(best_score)\n",
        "index"
      ],
      "execution_count": 15,
      "outputs": [
        {
          "output_type": "execute_result",
          "data": {
            "text/plain": [
              "7"
            ]
          },
          "metadata": {},
          "execution_count": 15
        }
      ]
    },
    {
      "cell_type": "code",
      "metadata": {
        "colab": {
          "base_uri": "https://localhost:8080/"
        },
        "id": "8AxGLLespyA0",
        "outputId": "3bf62c4e-b4ea-47ca-d693-f59d3a87806d"
      },
      "source": [
        "print(\"best_score: {} & best parameter: C: {} & gamma: {}\".format(best_score,C_list[index], gamma_list[index]))"
      ],
      "execution_count": 16,
      "outputs": [
        {
          "output_type": "stream",
          "name": "stdout",
          "text": [
            "best_score: 0.9494949494949495 & best parameter: C: 1.6500000000000001 & gamma: 0.005\n"
          ]
        }
      ]
    },
    {
      "cell_type": "markdown",
      "metadata": {
        "id": "RZev_qCYnylw"
      },
      "source": [
        "## Chu kỳ 3"
      ]
    },
    {
      "cell_type": "markdown",
      "metadata": {
        "id": "kqM4tWC4n_Gk"
      },
      "source": [
        "Đợi một chút. Kéo mở tệp nhãn của tập dữ liệu từ: https://archive.ics.uci.edu/ml/datasets/Parkinsons\n",
        "\n",
        "Nhìn vào các đơn vị trên các cột: **Hz,%, Abs, dB, ...** Điều gì đã xảy ra với việc chuyển đổi dữ liệu? Tất cả các đơn vị đó tương tác với nhau, một số quá trình tiền xử lý chắc chắn là theo thứ tự.\n",
        "Ngay sau khi bạn định dạng trước train/test split nhưng trước khi bạn huấn luyện mô hình, hãy nhập code tiền xử lý của SciKit-Learn. Trừ khi bạn biết rõ cái nào sẽ hoạt động tốt nhất, nếu không bạn sẽ phải thử từng bộ tiền xử lý khác nhau, kiểm tra xem chúng có cải thiện độ chính xác dự đoán hay không.\n",
        "\n",
        "Hãy thử với ***Normalizer(), MaxAbsScaler(), MinMaxScaler(), KernelCenterer(), and StandardScaler().***\n",
        "\n",
        "Sau khi thử tất cả các tỷ lệ này, độ chính xác cao nhất mới và hệ số F1 mà bạn có thể đạt được là bao nhiêu?"
      ]
    },
    {
      "cell_type": "code",
      "metadata": {
        "id": "i828Tr31n-Nu"
      },
      "source": [
        "from sklearn.preprocessing import Normalizer\n",
        "from sklearn.preprocessing import MaxAbsScaler\n",
        "#from sklearn.preprocessing import MinAbsScaler\n",
        "#from sklearn.preprocessing import KernelCenterer\n",
        "from sklearn.preprocessing import StandardScaler\n",
        "methods = [Normalizer(), MaxAbsScaler(), StandardScaler()]\n"
      ],
      "execution_count": 17,
      "outputs": []
    },
    {
      "cell_type": "code",
      "metadata": {
        "colab": {
          "base_uri": "https://localhost:8080/"
        },
        "id": "BiabEPIvem6S",
        "outputId": "5e0fa5dd-a0e3-49ea-8cd1-6de5aecbbb20"
      },
      "source": [
        "for method in methods:\n",
        "      scaler = method\n",
        "      scaled_x = scaler.fit_transform(X)\n",
        "      x_train, x_test, y_train, y_test = train_test_split(scaled_x, y , test_size = 0.3, random_state = 7)\n",
        "      from sklearn.svm import SVC\n",
        "      clf = SVC()\n",
        "      svm_model = clf.fit(x_train, y_train)\n",
        "      y_hat = svm_model.predict(x_test)\n",
        "      from sklearn.metrics import f1_score\n",
        "      score = f1_score(y_test, y_hat)\n",
        "      print(method, score)"
      ],
      "execution_count": 18,
      "outputs": [
        {
          "output_type": "stream",
          "name": "stdout",
          "text": [
            "Normalizer() 0.8867924528301886\n",
            "MaxAbsScaler() 0.9306930693069307\n",
            "StandardScaler() 0.9494949494949495\n"
          ]
        }
      ]
    },
    {
      "cell_type": "code",
      "metadata": {
        "id": "HP_nGOcxiYlg"
      },
      "source": [
        "best_score = 0\n",
        "score_list = []\n",
        "C_list = []\n",
        "scaled_x = StandardScaler().fit_transform(X)\n",
        "x_train, x_test, y_train, y_test = train_test_split(scaled_x, y , test_size = 0.3, random_state = 7)\n",
        "gamma_list = []\n",
        "for C in np.arange(0.05, 2.05,  0.05):\n",
        "  for gamma in np.arange(0.001, 0.1001, 0.001):\n",
        "      clf = SVC(kernel='rbf', C=C, gamma = gamma)\n",
        "      model = clf.fit(x_train, y_train)\n",
        "      y_hat = model.predict(x_test)\n",
        "      from sklearn.metrics import f1_score\n",
        "      score = f1_score(y_test, y_hat)\n",
        "      if score > best_score:\n",
        "          best_score =   score\n",
        "          score_list.append(score)\n",
        "          C_list.append(C)\n",
        "          gamma_list.append(gamma)"
      ],
      "execution_count": 19,
      "outputs": []
    },
    {
      "cell_type": "code",
      "metadata": {
        "colab": {
          "base_uri": "https://localhost:8080/"
        },
        "id": "C_KeYPvDryUh",
        "outputId": "8c5472f6-b9f9-4d3f-fe1b-14970f79b697"
      },
      "source": [
        "index = score_list.index(best_score)\n",
        "index"
      ],
      "execution_count": 20,
      "outputs": [
        {
          "output_type": "execute_result",
          "data": {
            "text/plain": [
              "6"
            ]
          },
          "metadata": {},
          "execution_count": 20
        }
      ]
    },
    {
      "cell_type": "code",
      "metadata": {
        "colab": {
          "base_uri": "https://localhost:8080/"
        },
        "id": "_ndEVAHJs7v8",
        "outputId": "4a69da32-003b-4167-9e06-664b4b8a2306"
      },
      "source": [
        "print(\"best_score: {} & best parameter: C: {} & gamma: {}\".format(best_score,C_list[index], gamma_list[index]))"
      ],
      "execution_count": 21,
      "outputs": [
        {
          "output_type": "stream",
          "name": "stdout",
          "text": [
            "best_score: 0.9591836734693878 & best parameter: C: 1.5000000000000002 & gamma: 0.1\n"
          ]
        }
      ]
    },
    {
      "cell_type": "markdown",
      "metadata": {
        "id": "PiRT2J2iSe5U"
      },
      "source": [
        "**FIND HYPERPARAMETERS USING GRIDSEARCH CV**"
      ]
    },
    {
      "cell_type": "code",
      "metadata": {
        "id": "P0kSgRLHSdxo"
      },
      "source": [
        "from sklearn.model_selection import GridSearchCV"
      ],
      "execution_count": 22,
      "outputs": []
    },
    {
      "cell_type": "code",
      "metadata": {
        "id": "qIGjx0d8WYgV"
      },
      "source": [
        "from sklearn.metrics import f1_score, make_scorer\n",
        "\n",
        "f1 = make_scorer(f1_score , average='macro')"
      ],
      "execution_count": 39,
      "outputs": []
    },
    {
      "cell_type": "code",
      "metadata": {
        "id": "KmUhJJT5Tbre"
      },
      "source": [
        "grid_search = GridSearchCV(SVC(), param_grid = {'C':[i for i in np.arange(1,11)], 'gamma':[i for i in np.arange(0.001, 0.6)]}, cv=10,\n",
        "scoring='f1',\n",
        "return_train_score=True)"
      ],
      "execution_count": 81,
      "outputs": []
    },
    {
      "cell_type": "code",
      "metadata": {
        "colab": {
          "base_uri": "https://localhost:8080/"
        },
        "id": "hkYvnl9XUnzi",
        "outputId": "0571d32e-1ad6-49d5-9d31-ffa4157b6c01"
      },
      "source": [
        "grid_search.fit(x_train, y_train)"
      ],
      "execution_count": 82,
      "outputs": [
        {
          "output_type": "execute_result",
          "data": {
            "text/plain": [
              "GridSearchCV(cv=10, estimator=SVC(),\n",
              "             param_grid={'C': [1, 2, 3, 4, 5, 6, 7, 8, 9, 10],\n",
              "                         'gamma': [0.001]},\n",
              "             return_train_score=True, scoring='f1')"
            ]
          },
          "metadata": {},
          "execution_count": 82
        }
      ]
    },
    {
      "cell_type": "code",
      "metadata": {
        "colab": {
          "base_uri": "https://localhost:8080/"
        },
        "id": "NgeY1jvmVBeP",
        "outputId": "671768dd-b110-4dd8-af89-45f44ffc8bfc"
      },
      "source": [
        "grid_search.best_params_"
      ],
      "execution_count": 83,
      "outputs": [
        {
          "output_type": "execute_result",
          "data": {
            "text/plain": [
              "{'C': 10, 'gamma': 0.001}"
            ]
          },
          "metadata": {},
          "execution_count": 83
        }
      ]
    },
    {
      "cell_type": "code",
      "metadata": {
        "colab": {
          "base_uri": "https://localhost:8080/"
        },
        "id": "yF9yaNz_Vu7w",
        "outputId": "838403f7-f05b-449d-9030-c43cf9961665"
      },
      "source": [
        "grid_search.best_score_"
      ],
      "execution_count": 84,
      "outputs": [
        {
          "output_type": "execute_result",
          "data": {
            "text/plain": [
              "0.9137398833051005"
            ]
          },
          "metadata": {},
          "execution_count": 84
        }
      ]
    },
    {
      "cell_type": "code",
      "metadata": {
        "id": "_AU1OZt9Wogr"
      },
      "source": [
        "from sklearn.svm import SVC\n",
        "clf = SVC(C=10, gamma=0.001, kernel = 'rbf')\n",
        "svm_model = clf.fit(x_train, y_train)"
      ],
      "execution_count": 89,
      "outputs": []
    },
    {
      "cell_type": "code",
      "metadata": {
        "id": "qsuv8YbtWogs"
      },
      "source": [
        "y_hat = svm_model.predict(x_test)"
      ],
      "execution_count": 87,
      "outputs": []
    },
    {
      "cell_type": "code",
      "metadata": {
        "colab": {
          "base_uri": "https://localhost:8080/"
        },
        "id": "3_gPI1AfWogs",
        "outputId": "105e2223-4751-4518-cb00-c39258098567"
      },
      "source": [
        "from sklearn.metrics import f1_score\n",
        "print(f1_score(y_hat, y_test))"
      ],
      "execution_count": 88,
      "outputs": [
        {
          "output_type": "stream",
          "name": "stdout",
          "text": [
            "0.9183673469387754\n"
          ]
        }
      ]
    }
  ]
}